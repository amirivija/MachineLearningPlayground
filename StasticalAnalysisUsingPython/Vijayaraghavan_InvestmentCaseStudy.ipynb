{
 "cells": [
  {
   "cell_type": "code",
   "execution_count": 1,
   "metadata": {},
   "outputs": [],
   "source": [
    "import pandas as pd\n",
    "import numpy as np\n",
    "import matplotlib.pyplot as plt"
   ]
  },
  {
   "cell_type": "code",
   "execution_count": 2,
   "metadata": {},
   "outputs": [],
   "source": [
    "companies = pd.read_csv(\"companies.txt\", sep=\"\\t\", encoding = \"ISO-8859-1\")\n",
    "rounds2 = pd.read_csv('rounds2.csv', sep=',', encoding = \"ISO-8859-1\")"
   ]
  },
  {
   "cell_type": "markdown",
   "metadata": {},
   "source": [
    "Understand the data present in rounds2 file\n"
   ]
  },
  {
   "cell_type": "code",
   "execution_count": 3,
   "metadata": {},
   "outputs": [
    {
     "data": {
      "text/html": [
       "<div>\n",
       "<style scoped>\n",
       "    .dataframe tbody tr th:only-of-type {\n",
       "        vertical-align: middle;\n",
       "    }\n",
       "\n",
       "    .dataframe tbody tr th {\n",
       "        vertical-align: top;\n",
       "    }\n",
       "\n",
       "    .dataframe thead th {\n",
       "        text-align: right;\n",
       "    }\n",
       "</style>\n",
       "<table border=\"1\" class=\"dataframe\">\n",
       "  <thead>\n",
       "    <tr style=\"text-align: right;\">\n",
       "      <th></th>\n",
       "      <th>raised_amount_usd</th>\n",
       "    </tr>\n",
       "  </thead>\n",
       "  <tbody>\n",
       "    <tr>\n",
       "      <th>count</th>\n",
       "      <td>9.495900e+04</td>\n",
       "    </tr>\n",
       "    <tr>\n",
       "      <th>mean</th>\n",
       "      <td>1.042687e+07</td>\n",
       "    </tr>\n",
       "    <tr>\n",
       "      <th>std</th>\n",
       "      <td>1.148212e+08</td>\n",
       "    </tr>\n",
       "    <tr>\n",
       "      <th>min</th>\n",
       "      <td>0.000000e+00</td>\n",
       "    </tr>\n",
       "    <tr>\n",
       "      <th>25%</th>\n",
       "      <td>3.225000e+05</td>\n",
       "    </tr>\n",
       "    <tr>\n",
       "      <th>50%</th>\n",
       "      <td>1.680511e+06</td>\n",
       "    </tr>\n",
       "    <tr>\n",
       "      <th>75%</th>\n",
       "      <td>7.000000e+06</td>\n",
       "    </tr>\n",
       "    <tr>\n",
       "      <th>max</th>\n",
       "      <td>2.127194e+10</td>\n",
       "    </tr>\n",
       "  </tbody>\n",
       "</table>\n",
       "</div>"
      ],
      "text/plain": [
       "       raised_amount_usd\n",
       "count       9.495900e+04\n",
       "mean        1.042687e+07\n",
       "std         1.148212e+08\n",
       "min         0.000000e+00\n",
       "25%         3.225000e+05\n",
       "50%         1.680511e+06\n",
       "75%         7.000000e+06\n",
       "max         2.127194e+10"
      ]
     },
     "execution_count": 3,
     "metadata": {},
     "output_type": "execute_result"
    }
   ],
   "source": [
    "rounds2.head()\n",
    "rounds2.describe()"
   ]
  },
  {
   "cell_type": "markdown",
   "metadata": {},
   "source": [
    "We need to do a data cleanup as the company permalink is in mixed case. The case is not consistent. We will convert it to lowercase."
   ]
  },
  {
   "cell_type": "code",
   "execution_count": 4,
   "metadata": {},
   "outputs": [
    {
     "data": {
      "text/plain": [
       "66370"
      ]
     },
     "execution_count": 4,
     "metadata": {},
     "output_type": "execute_result"
    }
   ],
   "source": [
    "rounds2.company_permalink = rounds2.company_permalink.astype(str).str.lower()\n",
    "rounds2['company_permalink'].unique().size"
   ]
  },
  {
   "cell_type": "markdown",
   "metadata": {},
   "source": [
    "There are NaN values in raised_amount_usd. We need to drop these"
   ]
  },
  {
   "cell_type": "code",
   "execution_count": 5,
   "metadata": {},
   "outputs": [],
   "source": [
    "rounds2.dropna(subset=['raised_amount_usd'], inplace=True)"
   ]
  },
  {
   "cell_type": "code",
   "execution_count": 6,
   "metadata": {},
   "outputs": [
    {
     "data": {
      "text/plain": [
       "(53915,)"
      ]
     },
     "execution_count": 6,
     "metadata": {},
     "output_type": "execute_result"
    }
   ],
   "source": [
    "# Get the unique company ids and their size\n",
    "companies_in_rounds = rounds2[\"company_permalink\"].unique()\n",
    "companies_in_rounds.shape\n"
   ]
  },
  {
   "cell_type": "markdown",
   "metadata": {},
   "source": [
    "Understand the data present in the companies file"
   ]
  },
  {
   "cell_type": "code",
   "execution_count": 7,
   "metadata": {},
   "outputs": [
    {
     "data": {
      "text/html": [
       "<div>\n",
       "<style scoped>\n",
       "    .dataframe tbody tr th:only-of-type {\n",
       "        vertical-align: middle;\n",
       "    }\n",
       "\n",
       "    .dataframe tbody tr th {\n",
       "        vertical-align: top;\n",
       "    }\n",
       "\n",
       "    .dataframe thead th {\n",
       "        text-align: right;\n",
       "    }\n",
       "</style>\n",
       "<table border=\"1\" class=\"dataframe\">\n",
       "  <thead>\n",
       "    <tr style=\"text-align: right;\">\n",
       "      <th></th>\n",
       "      <th>permalink</th>\n",
       "      <th>name</th>\n",
       "      <th>homepage_url</th>\n",
       "      <th>category_list</th>\n",
       "      <th>status</th>\n",
       "      <th>country_code</th>\n",
       "      <th>state_code</th>\n",
       "      <th>region</th>\n",
       "      <th>city</th>\n",
       "      <th>founded_at</th>\n",
       "    </tr>\n",
       "  </thead>\n",
       "  <tbody>\n",
       "    <tr>\n",
       "      <th>count</th>\n",
       "      <td>66368</td>\n",
       "      <td>66367</td>\n",
       "      <td>61310</td>\n",
       "      <td>63220</td>\n",
       "      <td>66368</td>\n",
       "      <td>59410</td>\n",
       "      <td>57821</td>\n",
       "      <td>58338</td>\n",
       "      <td>58340</td>\n",
       "      <td>51147</td>\n",
       "    </tr>\n",
       "    <tr>\n",
       "      <th>unique</th>\n",
       "      <td>66368</td>\n",
       "      <td>66102</td>\n",
       "      <td>61191</td>\n",
       "      <td>27296</td>\n",
       "      <td>4</td>\n",
       "      <td>137</td>\n",
       "      <td>311</td>\n",
       "      <td>1092</td>\n",
       "      <td>5111</td>\n",
       "      <td>3978</td>\n",
       "    </tr>\n",
       "    <tr>\n",
       "      <th>top</th>\n",
       "      <td>/Organization/Lexpertia-Com</td>\n",
       "      <td>Spire</td>\n",
       "      <td>http://www.askforoffer.com</td>\n",
       "      <td>Software</td>\n",
       "      <td>operating</td>\n",
       "      <td>USA</td>\n",
       "      <td>CA</td>\n",
       "      <td>SF Bay Area</td>\n",
       "      <td>San Francisco</td>\n",
       "      <td>01-01-2012</td>\n",
       "    </tr>\n",
       "    <tr>\n",
       "      <th>freq</th>\n",
       "      <td>1</td>\n",
       "      <td>4</td>\n",
       "      <td>5</td>\n",
       "      <td>3995</td>\n",
       "      <td>53034</td>\n",
       "      <td>37601</td>\n",
       "      <td>12900</td>\n",
       "      <td>8804</td>\n",
       "      <td>3526</td>\n",
       "      <td>2730</td>\n",
       "    </tr>\n",
       "  </tbody>\n",
       "</table>\n",
       "</div>"
      ],
      "text/plain": [
       "                          permalink   name                homepage_url  \\\n",
       "count                         66368  66367                       61310   \n",
       "unique                        66368  66102                       61191   \n",
       "top     /Organization/Lexpertia-Com  Spire  http://www.askforoffer.com   \n",
       "freq                              1      4                           5   \n",
       "\n",
       "       category_list     status country_code state_code       region  \\\n",
       "count          63220      66368        59410      57821        58338   \n",
       "unique         27296          4          137        311         1092   \n",
       "top         Software  operating          USA         CA  SF Bay Area   \n",
       "freq            3995      53034        37601      12900         8804   \n",
       "\n",
       "                 city  founded_at  \n",
       "count           58340       51147  \n",
       "unique           5111        3978  \n",
       "top     San Francisco  01-01-2012  \n",
       "freq             3526        2730  "
      ]
     },
     "execution_count": 7,
     "metadata": {},
     "output_type": "execute_result"
    }
   ],
   "source": [
    "companies.head()\n",
    "companies.describe()"
   ]
  },
  {
   "cell_type": "markdown",
   "metadata": {},
   "source": [
    "Since we are going to merge with rounds2 later, we'll have the permalink in the same lowercase format.\n",
    "We will do this datacleanup before further operations."
   ]
  },
  {
   "cell_type": "code",
   "execution_count": 8,
   "metadata": {},
   "outputs": [],
   "source": [
    "companies.permalink = companies.permalink.astype(str).str.lower()"
   ]
  },
  {
   "cell_type": "markdown",
   "metadata": {},
   "source": [
    "Get the number of unique companies in the companies file"
   ]
  },
  {
   "cell_type": "code",
   "execution_count": 9,
   "metadata": {},
   "outputs": [
    {
     "data": {
      "text/plain": [
       "66368"
      ]
     },
     "execution_count": 9,
     "metadata": {},
     "output_type": "execute_result"
    }
   ],
   "source": [
    "companies_in_companies = companies[\"permalink\"].unique()\n",
    "companies_in_companies.size"
   ]
  },
  {
   "cell_type": "markdown",
   "metadata": {},
   "source": [
    "Are there companies in rounds2 which are not there in companies?"
   ]
  },
  {
   "cell_type": "code",
   "execution_count": 10,
   "metadata": {},
   "outputs": [
    {
     "data": {
      "text/plain": [
       "False"
      ]
     },
     "execution_count": 10,
     "metadata": {},
     "output_type": "execute_result"
    }
   ],
   "source": [
    "set(companies_in_companies).issubset(set(companies_in_rounds))"
   ]
  },
  {
   "cell_type": "markdown",
   "metadata": {},
   "source": [
    "How Many companies are common across both the files."
   ]
  },
  {
   "cell_type": "code",
   "execution_count": 11,
   "metadata": {},
   "outputs": [
    {
     "data": {
      "text/plain": [
       "53914"
      ]
     },
     "execution_count": 11,
     "metadata": {},
     "output_type": "execute_result"
    }
   ],
   "source": [
    "len(set(companies_in_companies).intersection(set(companies_in_rounds)))"
   ]
  },
  {
   "cell_type": "markdown",
   "metadata": {},
   "source": [
    "Merge the two data frames so that all  variables (columns)  in the companies frame are added to the rounds2 data frame. "
   ]
  },
  {
   "cell_type": "code",
   "execution_count": 12,
   "metadata": {},
   "outputs": [],
   "source": [
    "master_frame = pd.merge( rounds2, companies, left_on='company_permalink', right_on = 'permalink', how='left')"
   ]
  },
  {
   "cell_type": "code",
   "execution_count": 13,
   "metadata": {},
   "outputs": [
    {
     "data": {
      "text/plain": [
       "94959"
      ]
     },
     "execution_count": 13,
     "metadata": {},
     "output_type": "execute_result"
    }
   ],
   "source": [
    "master_frame.shape[0]\n"
   ]
  },
  {
   "cell_type": "markdown",
   "metadata": {},
   "source": [
    "# -------------------- CHECKPOINT 2 BEGINS ---------------------------\n",
    "Average funding amount of venture type"
   ]
  },
  {
   "cell_type": "code",
   "execution_count": 14,
   "metadata": {},
   "outputs": [
    {
     "name": "stdout",
     "output_type": "stream",
     "text": [
      "11748949.129489528\n"
     ]
    }
   ],
   "source": [
    "venture = master_frame.loc[master_frame['funding_round_type'] == \"venture\"][\"raised_amount_usd\"].mean()\n",
    "print(venture)"
   ]
  },
  {
   "cell_type": "markdown",
   "metadata": {},
   "source": [
    "Average funding amount of angel type"
   ]
  },
  {
   "cell_type": "code",
   "execution_count": 15,
   "metadata": {},
   "outputs": [
    {
     "name": "stdout",
     "output_type": "stream",
     "text": [
      "958694.4697530865\n"
     ]
    }
   ],
   "source": [
    "angel = master_frame.loc[master_frame['funding_round_type'] == 'angel']['raised_amount_usd'].mean()\n",
    "print(angel)"
   ]
  },
  {
   "cell_type": "markdown",
   "metadata": {},
   "source": [
    "Average funding amount of seed type"
   ]
  },
  {
   "cell_type": "code",
   "execution_count": 16,
   "metadata": {},
   "outputs": [
    {
     "name": "stdout",
     "output_type": "stream",
     "text": [
      "719817.9969071728\n"
     ]
    }
   ],
   "source": [
    "seed = master_frame.loc[master_frame['funding_round_type'] == 'seed']['raised_amount_usd'].mean()\n",
    "print(seed)"
   ]
  },
  {
   "cell_type": "markdown",
   "metadata": {},
   "source": [
    "Average funding amount of private equity type"
   ]
  },
  {
   "cell_type": "code",
   "execution_count": 17,
   "metadata": {},
   "outputs": [
    {
     "name": "stdout",
     "output_type": "stream",
     "text": [
      "73308593.02944215\n"
     ]
    }
   ],
   "source": [
    "private_equity = master_frame.loc[master_frame['funding_round_type'] == 'private_equity']['raised_amount_usd'].mean()\n",
    "print(private_equity)"
   ]
  },
  {
   "cell_type": "markdown",
   "metadata": {},
   "source": [
    "# ------------------------ CHECKPOINT 3 BEGINS -----------------"
   ]
  },
  {
   "cell_type": "code",
   "execution_count": 18,
   "metadata": {},
   "outputs": [],
   "source": [
    "countries_by_venture_raised = master_frame.loc[master_frame['funding_round_type'] == 'venture'].groupby('country_code')['raised_amount_usd'].sum()"
   ]
  },
  {
   "cell_type": "code",
   "execution_count": 19,
   "metadata": {},
   "outputs": [],
   "source": [
    "top9 = pd.DataFrame(countries_by_venture_raised.nlargest(9))"
   ]
  },
  {
   "cell_type": "code",
   "execution_count": 20,
   "metadata": {},
   "outputs": [
    {
     "name": "stdout",
     "output_type": "stream",
     "text": [
      "              raised_amount_usd\n",
      "country_code                   \n",
      "USA                4.225108e+11\n",
      "CHN                3.983542e+10\n",
      "GBR                2.024563e+10\n",
      "IND                1.439186e+10\n",
      "CAN                9.583332e+09\n",
      "FRA                7.259537e+09\n",
      "ISR                6.907515e+09\n",
      "DEU                6.346960e+09\n",
      "JPN                3.363677e+09\n"
     ]
    }
   ],
   "source": [
    "top_countries = top9.head(10)\n",
    "print(top_countries)"
   ]
  },
  {
   "cell_type": "markdown",
   "metadata": {},
   "source": [
    "# ------------------------ CHECKPOINT 4 BEGINS -----------------"
   ]
  },
  {
   "cell_type": "markdown",
   "metadata": {},
   "source": [
    "Creating a lambda to get the sector for a given category"
   ]
  },
  {
   "cell_type": "code",
   "execution_count": 21,
   "metadata": {},
   "outputs": [
    {
     "data": {
      "text/plain": [
       "'Others'"
      ]
     },
     "execution_count": 21,
     "metadata": {},
     "output_type": "execute_result"
    }
   ],
   "source": [
    "# Creating the right data structures - map from the mapping file\n",
    "\n",
    "mapping_df = pd.read_csv('mapping.csv')\n",
    "\n",
    "#Correcting the mapping file. replace 0 by na\n",
    "mapping_df['category_list'] = mapping_df['category_list'].str.replace('0','na') \n",
    "mapping_df['category_list'] = mapping_df['category_list'].str.lower()\n",
    "mapping_df.set_index('category_list', inplace=True)\n",
    "\n",
    "dictionary = mapping_df.to_dict(orient='index')\n",
    "\n",
    "#Function to lookup the data in mapping.csv and get the main sector for a given company\n",
    "def getSector(category_list):\n",
    "#    print(category_list)\n",
    "    \n",
    "    if(isinstance(category_list,float)):\n",
    "        return \"Others\"\n",
    "    \n",
    "    category = category_list.split('|')[0]\n",
    "#    print(category)\n",
    "    \n",
    "    sector_index = dictionary.get(category.lower())\n",
    "    \n",
    "    if(sector_index == None):\n",
    "#        print(\"sector not found for \" + category_list)\n",
    "        return \"Others\"\n",
    "\n",
    "    for k, v in sector_index.items():\n",
    "        if(v == 1):\n",
    "#            print(category_list + \"--------\" + k)\n",
    "            return k\n",
    "\n",
    "#Testing the get Sector Function\n",
    "getSector('nan')"
   ]
  },
  {
   "cell_type": "code",
   "execution_count": 22,
   "metadata": {},
   "outputs": [],
   "source": [
    "#Gets the primary sector given the category list\n",
    "def getPrimarySector(category_list):\n",
    "    if(isinstance(category_list, float)):\n",
    "        return \"other\"\n",
    "    return category_list.split(\"|\")[0]\n",
    "\n",
    "master_frame['primary_sector'] = master_frame.apply(lambda row: getPrimarySector(row['category_list']), axis = 1)"
   ]
  },
  {
   "cell_type": "code",
   "execution_count": 23,
   "metadata": {},
   "outputs": [],
   "source": [
    "master_frame['main_sector'] = master_frame.apply(lambda row: getSector(row['category_list']), axis=1)"
   ]
  },
  {
   "cell_type": "code",
   "execution_count": 24,
   "metadata": {},
   "outputs": [
    {
     "data": {
      "text/html": [
       "<div>\n",
       "<style scoped>\n",
       "    .dataframe tbody tr th:only-of-type {\n",
       "        vertical-align: middle;\n",
       "    }\n",
       "\n",
       "    .dataframe tbody tr th {\n",
       "        vertical-align: top;\n",
       "    }\n",
       "\n",
       "    .dataframe thead th {\n",
       "        text-align: right;\n",
       "    }\n",
       "</style>\n",
       "<table border=\"1\" class=\"dataframe\">\n",
       "  <thead>\n",
       "    <tr style=\"text-align: right;\">\n",
       "      <th></th>\n",
       "      <th>company_permalink</th>\n",
       "      <th>funding_round_permalink</th>\n",
       "      <th>funding_round_type</th>\n",
       "      <th>funding_round_code</th>\n",
       "      <th>funded_at</th>\n",
       "      <th>raised_amount_usd</th>\n",
       "      <th>permalink</th>\n",
       "      <th>name</th>\n",
       "      <th>homepage_url</th>\n",
       "      <th>category_list</th>\n",
       "      <th>status</th>\n",
       "      <th>country_code</th>\n",
       "      <th>state_code</th>\n",
       "      <th>region</th>\n",
       "      <th>city</th>\n",
       "      <th>founded_at</th>\n",
       "      <th>primary_sector</th>\n",
       "    </tr>\n",
       "    <tr>\n",
       "      <th>main_sector</th>\n",
       "      <th></th>\n",
       "      <th></th>\n",
       "      <th></th>\n",
       "      <th></th>\n",
       "      <th></th>\n",
       "      <th></th>\n",
       "      <th></th>\n",
       "      <th></th>\n",
       "      <th></th>\n",
       "      <th></th>\n",
       "      <th></th>\n",
       "      <th></th>\n",
       "      <th></th>\n",
       "      <th></th>\n",
       "      <th></th>\n",
       "      <th></th>\n",
       "      <th></th>\n",
       "    </tr>\n",
       "  </thead>\n",
       "  <tbody>\n",
       "    <tr>\n",
       "      <th>Automotive &amp; Sports</th>\n",
       "      <td>1941</td>\n",
       "      <td>1941</td>\n",
       "      <td>1941</td>\n",
       "      <td>446</td>\n",
       "      <td>1941</td>\n",
       "      <td>1941</td>\n",
       "      <td>1941</td>\n",
       "      <td>1941</td>\n",
       "      <td>1835</td>\n",
       "      <td>1941</td>\n",
       "      <td>1941</td>\n",
       "      <td>1794</td>\n",
       "      <td>1745</td>\n",
       "      <td>1761</td>\n",
       "      <td>1761</td>\n",
       "      <td>1589</td>\n",
       "      <td>1941</td>\n",
       "    </tr>\n",
       "    <tr>\n",
       "      <th>Cleantech / Semiconductors</th>\n",
       "      <td>15195</td>\n",
       "      <td>15195</td>\n",
       "      <td>15195</td>\n",
       "      <td>5055</td>\n",
       "      <td>15195</td>\n",
       "      <td>15195</td>\n",
       "      <td>15195</td>\n",
       "      <td>15195</td>\n",
       "      <td>14367</td>\n",
       "      <td>15195</td>\n",
       "      <td>15195</td>\n",
       "      <td>14736</td>\n",
       "      <td>14584</td>\n",
       "      <td>14570</td>\n",
       "      <td>14570</td>\n",
       "      <td>11578</td>\n",
       "      <td>15195</td>\n",
       "    </tr>\n",
       "    <tr>\n",
       "      <th>Entertainment</th>\n",
       "      <td>6683</td>\n",
       "      <td>6683</td>\n",
       "      <td>6683</td>\n",
       "      <td>1822</td>\n",
       "      <td>6683</td>\n",
       "      <td>6683</td>\n",
       "      <td>6683</td>\n",
       "      <td>6683</td>\n",
       "      <td>6420</td>\n",
       "      <td>6683</td>\n",
       "      <td>6683</td>\n",
       "      <td>6122</td>\n",
       "      <td>5919</td>\n",
       "      <td>5982</td>\n",
       "      <td>5982</td>\n",
       "      <td>5685</td>\n",
       "      <td>6683</td>\n",
       "    </tr>\n",
       "    <tr>\n",
       "      <th>Health</th>\n",
       "      <td>7151</td>\n",
       "      <td>7151</td>\n",
       "      <td>7151</td>\n",
       "      <td>1848</td>\n",
       "      <td>7151</td>\n",
       "      <td>7151</td>\n",
       "      <td>7151</td>\n",
       "      <td>7151</td>\n",
       "      <td>6680</td>\n",
       "      <td>7151</td>\n",
       "      <td>7151</td>\n",
       "      <td>6793</td>\n",
       "      <td>6708</td>\n",
       "      <td>6711</td>\n",
       "      <td>6711</td>\n",
       "      <td>5429</td>\n",
       "      <td>7151</td>\n",
       "    </tr>\n",
       "    <tr>\n",
       "      <th>Manufacturing</th>\n",
       "      <td>6070</td>\n",
       "      <td>6070</td>\n",
       "      <td>6070</td>\n",
       "      <td>1654</td>\n",
       "      <td>6070</td>\n",
       "      <td>6070</td>\n",
       "      <td>6070</td>\n",
       "      <td>6070</td>\n",
       "      <td>5697</td>\n",
       "      <td>6070</td>\n",
       "      <td>6070</td>\n",
       "      <td>5696</td>\n",
       "      <td>5619</td>\n",
       "      <td>5625</td>\n",
       "      <td>5625</td>\n",
       "      <td>4853</td>\n",
       "      <td>6070</td>\n",
       "    </tr>\n",
       "    <tr>\n",
       "      <th>News, Search and Messaging</th>\n",
       "      <td>13505</td>\n",
       "      <td>13505</td>\n",
       "      <td>13505</td>\n",
       "      <td>3990</td>\n",
       "      <td>13505</td>\n",
       "      <td>13505</td>\n",
       "      <td>13505</td>\n",
       "      <td>13505</td>\n",
       "      <td>13133</td>\n",
       "      <td>13505</td>\n",
       "      <td>13505</td>\n",
       "      <td>12445</td>\n",
       "      <td>12150</td>\n",
       "      <td>12269</td>\n",
       "      <td>12269</td>\n",
       "      <td>11746</td>\n",
       "      <td>13505</td>\n",
       "    </tr>\n",
       "    <tr>\n",
       "      <th>Others</th>\n",
       "      <td>22580</td>\n",
       "      <td>22580</td>\n",
       "      <td>22580</td>\n",
       "      <td>6834</td>\n",
       "      <td>22580</td>\n",
       "      <td>22580</td>\n",
       "      <td>22579</td>\n",
       "      <td>22578</td>\n",
       "      <td>21249</td>\n",
       "      <td>21535</td>\n",
       "      <td>22579</td>\n",
       "      <td>20924</td>\n",
       "      <td>20547</td>\n",
       "      <td>20633</td>\n",
       "      <td>20636</td>\n",
       "      <td>18513</td>\n",
       "      <td>22580</td>\n",
       "    </tr>\n",
       "    <tr>\n",
       "      <th>Social, Finance, Analytics, Advertising</th>\n",
       "      <td>21834</td>\n",
       "      <td>21834</td>\n",
       "      <td>21834</td>\n",
       "      <td>6520</td>\n",
       "      <td>21834</td>\n",
       "      <td>21834</td>\n",
       "      <td>21834</td>\n",
       "      <td>21834</td>\n",
       "      <td>21245</td>\n",
       "      <td>21834</td>\n",
       "      <td>21834</td>\n",
       "      <td>20598</td>\n",
       "      <td>20083</td>\n",
       "      <td>20360</td>\n",
       "      <td>20360</td>\n",
       "      <td>19599</td>\n",
       "      <td>21834</td>\n",
       "    </tr>\n",
       "  </tbody>\n",
       "</table>\n",
       "</div>"
      ],
      "text/plain": [
       "                                         company_permalink  \\\n",
       "main_sector                                                  \n",
       "Automotive & Sports                                   1941   \n",
       "Cleantech / Semiconductors                           15195   \n",
       "Entertainment                                         6683   \n",
       "Health                                                7151   \n",
       "Manufacturing                                         6070   \n",
       "News, Search and Messaging                           13505   \n",
       "Others                                               22580   \n",
       "Social, Finance, Analytics, Advertising              21834   \n",
       "\n",
       "                                         funding_round_permalink  \\\n",
       "main_sector                                                        \n",
       "Automotive & Sports                                         1941   \n",
       "Cleantech / Semiconductors                                 15195   \n",
       "Entertainment                                               6683   \n",
       "Health                                                      7151   \n",
       "Manufacturing                                               6070   \n",
       "News, Search and Messaging                                 13505   \n",
       "Others                                                     22580   \n",
       "Social, Finance, Analytics, Advertising                    21834   \n",
       "\n",
       "                                         funding_round_type  \\\n",
       "main_sector                                                   \n",
       "Automotive & Sports                                    1941   \n",
       "Cleantech / Semiconductors                            15195   \n",
       "Entertainment                                          6683   \n",
       "Health                                                 7151   \n",
       "Manufacturing                                          6070   \n",
       "News, Search and Messaging                            13505   \n",
       "Others                                                22580   \n",
       "Social, Finance, Analytics, Advertising               21834   \n",
       "\n",
       "                                         funding_round_code  funded_at  \\\n",
       "main_sector                                                              \n",
       "Automotive & Sports                                     446       1941   \n",
       "Cleantech / Semiconductors                             5055      15195   \n",
       "Entertainment                                          1822       6683   \n",
       "Health                                                 1848       7151   \n",
       "Manufacturing                                          1654       6070   \n",
       "News, Search and Messaging                             3990      13505   \n",
       "Others                                                 6834      22580   \n",
       "Social, Finance, Analytics, Advertising                6520      21834   \n",
       "\n",
       "                                         raised_amount_usd  permalink   name  \\\n",
       "main_sector                                                                    \n",
       "Automotive & Sports                                   1941       1941   1941   \n",
       "Cleantech / Semiconductors                           15195      15195  15195   \n",
       "Entertainment                                         6683       6683   6683   \n",
       "Health                                                7151       7151   7151   \n",
       "Manufacturing                                         6070       6070   6070   \n",
       "News, Search and Messaging                           13505      13505  13505   \n",
       "Others                                               22580      22579  22578   \n",
       "Social, Finance, Analytics, Advertising              21834      21834  21834   \n",
       "\n",
       "                                         homepage_url  category_list  status  \\\n",
       "main_sector                                                                    \n",
       "Automotive & Sports                              1835           1941    1941   \n",
       "Cleantech / Semiconductors                      14367          15195   15195   \n",
       "Entertainment                                    6420           6683    6683   \n",
       "Health                                           6680           7151    7151   \n",
       "Manufacturing                                    5697           6070    6070   \n",
       "News, Search and Messaging                      13133          13505   13505   \n",
       "Others                                          21249          21535   22579   \n",
       "Social, Finance, Analytics, Advertising         21245          21834   21834   \n",
       "\n",
       "                                         country_code  state_code  region  \\\n",
       "main_sector                                                                 \n",
       "Automotive & Sports                              1794        1745    1761   \n",
       "Cleantech / Semiconductors                      14736       14584   14570   \n",
       "Entertainment                                    6122        5919    5982   \n",
       "Health                                           6793        6708    6711   \n",
       "Manufacturing                                    5696        5619    5625   \n",
       "News, Search and Messaging                      12445       12150   12269   \n",
       "Others                                          20924       20547   20633   \n",
       "Social, Finance, Analytics, Advertising         20598       20083   20360   \n",
       "\n",
       "                                          city  founded_at  primary_sector  \n",
       "main_sector                                                                 \n",
       "Automotive & Sports                       1761        1589            1941  \n",
       "Cleantech / Semiconductors               14570       11578           15195  \n",
       "Entertainment                             5982        5685            6683  \n",
       "Health                                    6711        5429            7151  \n",
       "Manufacturing                             5625        4853            6070  \n",
       "News, Search and Messaging               12269       11746           13505  \n",
       "Others                                   20636       18513           22580  \n",
       "Social, Finance, Analytics, Advertising  20360       19599           21834  "
      ]
     },
     "execution_count": 24,
     "metadata": {},
     "output_type": "execute_result"
    }
   ],
   "source": [
    "master_frame.groupby('main_sector').count()"
   ]
  },
  {
   "cell_type": "markdown",
   "metadata": {},
   "source": [
    "# ------------------------ CHECKPOINT 5 BEGINS -----------------"
   ]
  },
  {
   "cell_type": "code",
   "execution_count": 25,
   "metadata": {
    "scrolled": true
   },
   "outputs": [],
   "source": [
    "## Function for Getting stats for a given country, and return the processed dataframe\n",
    "def getCountryStats(country_code):\n",
    "    pd.options.mode.chained_assignment = None\n",
    "    d1=master_frame.loc[(master_frame['country_code'] == country_code) & (master_frame['raised_amount_usd'] >= 5000000.0) & (master_frame['raised_amount_usd'] <= 15000000.0) & (master_frame['funding_round_type'] == 'venture')]\n",
    "    d1['amount_by_sector'] = d1.groupby('main_sector')['raised_amount_usd'].transform(np.sum)\n",
    "    d1['count_by_sector'] = d1.groupby('main_sector')['raised_amount_usd'].transform(np.sum)\n",
    "\n",
    "    print('Number of investments in: {0} : {1}'.format(country_code, d1.shape[0]))\n",
    "    print('Total Value of investments in: {0} : {1}'.format(country_code, d1['raised_amount_usd'].sum()))\n",
    "\n",
    "    print('Top 3 sectors and number of companies per sector: ')\n",
    "    print(d1.groupby('main_sector')['count_by_sector'].count().nlargest(3))\n",
    "    d1['total_amount_raised'] = d1.groupby('company_permalink')['raised_amount_usd'].transform(sum)\n",
    "    \n",
    "    return d1\n"
   ]
  },
  {
   "cell_type": "markdown",
   "metadata": {},
   "source": [
    "## ---------------- Country 1 : USA--------------------------"
   ]
  },
  {
   "cell_type": "code",
   "execution_count": 26,
   "metadata": {},
   "outputs": [
    {
     "name": "stdout",
     "output_type": "stream",
     "text": [
      "Number of investments in: USA : 12150\n",
      "Total Value of investments in: USA : 108531347515.0\n",
      "Top 3 sectors and number of companies per sector: \n",
      "main_sector\n",
      "Others                                     3037\n",
      "Social, Finance, Analytics, Advertising    2714\n",
      "Cleantech / Semiconductors                 2350\n",
      "Name: count_by_sector, dtype: int64\n"
     ]
    }
   ],
   "source": [
    "d1 = getCountryStats('USA')"
   ]
  },
  {
   "cell_type": "markdown",
   "metadata": {},
   "source": [
    "Top company in which investment has been made in Others sector"
   ]
  },
  {
   "cell_type": "code",
   "execution_count": 27,
   "metadata": {},
   "outputs": [
    {
     "data": {
      "text/plain": [
       "88955    Virtustream\n",
       "Name: name, dtype: object"
      ]
     },
     "execution_count": 27,
     "metadata": {},
     "output_type": "execute_result"
    }
   ],
   "source": [
    "d1.loc[d1['main_sector'] == 'Others'].nlargest(1, columns = 'total_amount_raised')['name']"
   ]
  },
  {
   "cell_type": "markdown",
   "metadata": {},
   "source": [
    "Top Company in Social, Finance, Analytics sector"
   ]
  },
  {
   "cell_type": "code",
   "execution_count": 28,
   "metadata": {},
   "outputs": [
    {
     "data": {
      "text/plain": [
       "73697    SST Inc. (Formerly ShotSpotter)\n",
       "Name: name, dtype: object"
      ]
     },
     "execution_count": 28,
     "metadata": {},
     "output_type": "execute_result"
    }
   ],
   "source": [
    "d1.loc[d1['main_sector'] == 'Social, Finance, Analytics, Advertising'].nlargest(1, columns='total_amount_raised')['name']"
   ]
  },
  {
   "cell_type": "markdown",
   "metadata": {},
   "source": [
    "## ---------------- Country 2 : GBR--------------------------"
   ]
  },
  {
   "cell_type": "code",
   "execution_count": 29,
   "metadata": {},
   "outputs": [
    {
     "name": "stdout",
     "output_type": "stream",
     "text": [
      "Number of investments in: GBR : 628\n",
      "Total Value of investments in: GBR : 5436843539.0\n",
      "Top 3 sectors and number of companies per sector: \n",
      "main_sector\n",
      "Others                                     154\n",
      "Social, Finance, Analytics, Advertising    133\n",
      "Cleantech / Semiconductors                 130\n",
      "Name: count_by_sector, dtype: int64\n"
     ]
    }
   ],
   "source": [
    "d2 = getCountryStats('GBR')"
   ]
  },
  {
   "cell_type": "markdown",
   "metadata": {},
   "source": [
    "Top Company in others sector"
   ]
  },
  {
   "cell_type": "code",
   "execution_count": 30,
   "metadata": {},
   "outputs": [
    {
     "data": {
      "text/plain": [
       "25790    Electric Cloud\n",
       "Name: name, dtype: object"
      ]
     },
     "execution_count": 30,
     "metadata": {},
     "output_type": "execute_result"
    }
   ],
   "source": [
    "d2.loc[d2['main_sector'] == 'Others'].nlargest(1, columns = 'total_amount_raised')['name']"
   ]
  },
  {
   "cell_type": "markdown",
   "metadata": {},
   "source": [
    "Top country in the Social, Finance, Analytics, Advertising sector"
   ]
  },
  {
   "cell_type": "code",
   "execution_count": 31,
   "metadata": {},
   "outputs": [
    {
     "data": {
      "text/plain": [
       "15240    Celltick Technologies\n",
       "Name: name, dtype: object"
      ]
     },
     "execution_count": 31,
     "metadata": {},
     "output_type": "execute_result"
    }
   ],
   "source": [
    "d2.loc[d2['main_sector'] == 'Social, Finance, Analytics, Advertising'].nlargest(1, columns='total_amount_raised')['name']"
   ]
  },
  {
   "cell_type": "markdown",
   "metadata": {},
   "source": [
    "## ---------------- Country 3 : IND--------------------------"
   ]
  },
  {
   "cell_type": "code",
   "execution_count": 32,
   "metadata": {},
   "outputs": [
    {
     "name": "stdout",
     "output_type": "stream",
     "text": [
      "Number of investments in: IND : 330\n",
      "Total Value of investments in: IND : 2976543602.0\n",
      "Top 3 sectors and number of companies per sector: \n",
      "main_sector\n",
      "Others                                     112\n",
      "Social, Finance, Analytics, Advertising     60\n",
      "News, Search and Messaging                  52\n",
      "Name: count_by_sector, dtype: int64\n"
     ]
    }
   ],
   "source": [
    "d3 = getCountryStats('IND')"
   ]
  },
  {
   "cell_type": "code",
   "execution_count": 33,
   "metadata": {},
   "outputs": [
    {
     "data": {
      "text/plain": [
       "29823    FirstCry.com\n",
       "Name: name, dtype: object"
      ]
     },
     "execution_count": 33,
     "metadata": {},
     "output_type": "execute_result"
    }
   ],
   "source": [
    "#Get the top funded company in the Others sector\n",
    "d3.loc[d3['main_sector'] == 'Others'].nlargest(1, columns = 'total_amount_raised')['name']"
   ]
  },
  {
   "cell_type": "code",
   "execution_count": 34,
   "metadata": {},
   "outputs": [
    {
     "data": {
      "text/plain": [
       "48764    Manthan Systems\n",
       "Name: name, dtype: object"
      ]
     },
     "execution_count": 34,
     "metadata": {},
     "output_type": "execute_result"
    }
   ],
   "source": [
    "#Get the top funded company in Social Finance Analytics and Advertising\n",
    "d3.loc[d3['main_sector'] == 'Social, Finance, Analytics, Advertising'].nlargest(1, columns='total_amount_raised')['name']\n"
   ]
  },
  {
   "cell_type": "markdown",
   "metadata": {},
   "source": [
    "## What does the Others main sector map to?"
   ]
  },
  {
   "cell_type": "code",
   "execution_count": 35,
   "metadata": {},
   "outputs": [
    {
     "data": {
      "text/plain": [
       "primary_sector\n",
       "Software               6083\n",
       "E-Commerce             3798\n",
       "Enterprise Software    2619\n",
       "Education              1364\n",
       "other                  1045\n",
       "Name: primary_sector, dtype: int64"
      ]
     },
     "execution_count": 35,
     "metadata": {},
     "output_type": "execute_result"
    }
   ],
   "source": [
    "master_frame.loc[master_frame['main_sector'] == 'Others'].groupby('primary_sector')['primary_sector'].count().nlargest(5)"
   ]
  },
  {
   "cell_type": "markdown",
   "metadata": {},
   "source": [
    "# --------------------- CHECKPOINT 6 BEGINS"
   ]
  },
  {
   "cell_type": "code",
   "execution_count": 36,
   "metadata": {},
   "outputs": [
    {
     "data": {
      "image/png": "[encoded data removed]",
      "text/plain": [
       "<Figure size 432x288 with 1 Axes>"
      ]
     },
     "metadata": {},
     "output_type": "display_data"
    }
   ],
   "source": [
    "from matplotlib.ticker import FuncFormatter\n",
    "\n",
    "# Function to format the value as millions\n",
    "def millions(x, pos):\n",
    "    'The two args are the value and tick position'\n",
    "    return '$%1.1fM' % (x * 1e-6)\n",
    "\n",
    "\n",
    "formatter = FuncFormatter(millions)\n",
    "\n",
    "fig, ax = plt.subplots()\n",
    "ax.yaxis.set_major_formatter(formatter)\n",
    "# horizontal line indicating the threshold\n",
    "plt.bar(['venture', 'angel', 'seed', 'private_equity'], [venture, angel, seed, private_equity])\n",
    "ax.grid(axis='y')"
   ]
  },
  {
   "cell_type": "code",
   "execution_count": 37,
   "metadata": {},
   "outputs": [
    {
     "data": {
      "text/plain": [
       "([<matplotlib.patches.Wedge at 0x113e05ba8>,\n",
       "  <matplotlib.patches.Wedge at 0x113df0320>,\n",
       "  <matplotlib.patches.Wedge at 0x113df0ac8>,\n",
       "  <matplotlib.patches.Wedge at 0x113deb2b0>],\n",
       " [Text(1.00189,0.454103,'venture'),\n",
       "  Text(0.695919,0.851878,'angel'),\n",
       "  Text(0.642874,0.892588,'seed'),\n",
       "  Text(-0.972452,-0.514137,'private_equity')],\n",
       " [Text(0.546487,0.247692,'13.5%'),\n",
       "  Text(0.379592,0.464661,'1.1%'),\n",
       "  Text(0.350659,0.486866,'0.8%'),\n",
       "  Text(-0.530428,-0.280439,'84.5%')])"
      ]
     },
     "execution_count": 37,
     "metadata": {},
     "output_type": "execute_result"
    },
    {
     "data": {
      "image/png": "[encoded data removed]",
      "text/plain": [
       "<Figure size 432x288 with 1 Axes>"
      ]
     },
     "metadata": {},
     "output_type": "display_data"
    }
   ],
   "source": [
    "#fraction of investments\n",
    "labels = ['venture', 'angel', 'seed', 'private_equity']\n",
    "total = venture + angel + seed + private_equity\n",
    "\n",
    "fractions = [venture * 100/ total, angel * 100/ total, seed * 100/ total, private_equity *100/ total]\n",
    "plt.pie(fractions, labels=labels, autopct='%1.1f%%', shadow=False)\n",
    "\n"
   ]
  },
  {
   "cell_type": "code",
   "execution_count": 38,
   "metadata": {},
   "outputs": [
    {
     "data": {
      "text/plain": [
       "<matplotlib.axes._subplots.AxesSubplot at 0x10f5de5c0>"
      ]
     },
     "execution_count": 38,
     "metadata": {},
     "output_type": "execute_result"
    },
    {
     "data": {
      "image/png": "[encoded data removed]",
      "text/plain": [
       "<Figure size 432x288 with 1 Axes>"
      ]
     },
     "metadata": {},
     "output_type": "display_data"
    }
   ],
   "source": [
    "\n",
    "top_countries.apply(lambda row: row['raised_amount_usd'] / 1000000.0, axis=1).plot(kind='bar', title= 'Venture Funding in millions')"
   ]
  },
  {
   "cell_type": "code",
   "execution_count": 39,
   "metadata": {
    "scrolled": true
   },
   "outputs": [
    {
     "name": "stderr",
     "output_type": "stream",
     "text": [
      "/Users/amirisev/.local/lib/python3.6/site-packages/matplotlib/cbook/deprecation.py:107: MatplotlibDeprecationWarning: Adding an axes using the same arguments as a previous axes currently reuses the earlier instance.  In a future version, a new instance will always be created and returned.  Meanwhile, this warning can be suppressed, and the future behavior ensured, by passing a unique label to each axes instance.\n",
      "  warnings.warn(message, mplDeprecation, stacklevel=1)\n"
     ]
    },
    {
     "data": {
      "image/png": "[encoded data removed]",
      "text/plain": [
       "<Figure size 432x288 with 3 Axes>"
      ]
     },
     "metadata": {},
     "output_type": "display_data"
    }
   ],
   "source": [
    "plt.subplot(133)\n",
    "plt.subplot(131)\n",
    "d1.groupby('main_sector')['count_by_sector'].count().nlargest(3).plot(kind='bar')\n",
    "plt.title('USA: Investment by Sector')\n",
    "plt.ylabel('Number of Companies')\n",
    "\n",
    "plt.subplot(132)\n",
    "d2.groupby('main_sector')['count_by_sector'].count().nlargest(3).plot(kind='bar')\n",
    "plt.title('GBR: Investment by Sector')\n",
    "plt.ylabel('Number of Companies')\n",
    "\n",
    "plt.subplot(133)\n",
    "d3.groupby('main_sector')['count_by_sector'].count().nlargest(3).plot(kind='bar')\n",
    "plt.title('IND: Investment by Sector')\n",
    "plt.ylabel('Number of Companies')\n",
    "\n",
    "plt.subplots_adjust(bottom=0.1, right=3, top=0.9)"
   ]
  }
 ],
 "metadata": {
  "kernelspec": {
   "display_name": "Python 3",
   "language": "python",
   "name": "python3"
  },
  "language_info": {
   "codemirror_mode": {
    "name": "ipython",
    "version": 3
   },
   "file_extension": ".py",
   "mimetype": "text/x-python",
   "name": "python",
   "nbconvert_exporter": "python",
   "pygments_lexer": "ipython3",
   "version": "3.6.4"
  }
 },
 "nbformat": 4,
 "nbformat_minor": 2
}
